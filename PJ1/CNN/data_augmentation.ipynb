{
 "cells": [
  {
   "cell_type": "code",
   "execution_count": 77,
   "metadata": {},
   "outputs": [],
   "source": [
    "import torch\n",
    "import torch.nn as nn\n",
    "import torch.optim as optim\n",
    "import torchvision\n",
    "import torchvision.transforms as transforms\n",
    "import os\n",
    "import numpy as np\n",
    "from PIL import Image\n",
    "import matplotlib.pyplot as plt\n",
    "from torch.utils.data import DataLoader, Dataset\n",
    "\n",
    "category=12\n",
    "\n",
    "def load_data():\n",
    "    x=[]\n",
    "    y=[]\n",
    "    x_test=[]\n",
    "    y_test=[]\n",
    "    \n",
    "    for i in range(category):\n",
    "        root = f'../train/{i+1}'\n",
    "        filenames = os.listdir(root)\n",
    "        # we shuffle the data point to make the model more robust\n",
    "        np.random.shuffle(filenames)  \n",
    "        test_num = 0\n",
    "        for filename in filenames:\n",
    "            img_root = os.path.join(root, filename)\n",
    "            image = Image.open(img_root)\n",
    "            if test_num < (int)(0.2*len(filenames)):\n",
    "                x_test.append(np.expand_dims(np.array(image),axis=0))\n",
    "                y_test.append([1 if j == i else 0 for j in range(12)])\n",
    "                test_num += 1\n",
    "            else:\n",
    "                x.append(np.expand_dims(np.array(image),axis=0))\n",
    "                y.append([1 if j == i else 0 for j in range(12)])\n",
    "    \n",
    "    x = np.array(x)\n",
    "    y = np.array(y)\n",
    "    x_test = np.array(x_test)\n",
    "    y_test = np.array(y_test)\n",
    "    \n",
    "    return x, y, x_test, y_test\n",
    "\n",
    "class MyDataset(Dataset):\n",
    "    def __init__(self, data_type='train', transform=None):\n",
    "        x, y, x_test, y_test = load_data()\n",
    "        if data_type == 'train':\n",
    "            self.x, self.y = x.astype(float), y.astype(float)\n",
    "        else:\n",
    "            self.x, self.y = x_test.astype(float), y_test.astype(float)\n",
    "        self.transform = transform\n",
    "    \n",
    "    def __len__(self):\n",
    "        return len(self.x)\n",
    "    \n",
    "    def __getitem__(self, idx):\n",
    "        sample_x, sample_y = self.x[idx], self.y[idx]\n",
    "        # 转换 NumPy 数组为 PIL 图像\n",
    "        \n",
    "        # 如果定义了 transform，则应用 transform\n",
    "        if self.transform:\n",
    "            sample_x = self.transform(Image.fromarray(sample_x[0]))\n",
    "            sample_x = np.array(sample_x)\n",
    "        \n",
    "        return sample_x, sample_y\n",
    "\n",
    "\n"
   ]
  },
  {
   "cell_type": "code",
   "execution_count": 78,
   "metadata": {},
   "outputs": [],
   "source": [
    "# 定义数据增强的转换\n",
    "data_transforms = transforms.Compose([\n",
    "    transforms.RandomRotation(degrees=30),  # 在 -30 到 +30 度之间随机旋转\n",
    "    transforms.ToTensor(),  # 转换为张量\n",
    "])\n",
    "\n",
    "# 创建 MyDataset 实例，并传递 transform 参数\n",
    "dataset = MyDataset(data_type='train',transform=data_transforms)\n",
    "train_loader = DataLoader(dataset, batch_size=32, shuffle=True)"
   ]
  },
  {
   "cell_type": "code",
   "execution_count": 81,
   "metadata": {},
   "outputs": [
    {
     "name": "stdout",
     "output_type": "stream",
     "text": [
      "torch.Size([32, 1, 28, 28])\n",
      "torch.Size([32, 12])\n"
     ]
    }
   ],
   "source": [
    "for x,y in train_loader:\n",
    "    print(x.shape)\n",
    "    print(y.shape)\n",
    "    break"
   ]
  },
  {
   "cell_type": "code",
   "execution_count": 80,
   "metadata": {},
   "outputs": [
    {
     "data": {
      "image/png": "[encoded data removed]",
      "text/plain": [
       "<Figure size 640x480 with 1 Axes>"
      ]
     },
     "metadata": {},
     "output_type": "display_data"
    }
   ],
   "source": [
    "from PIL import Image\n",
    "import matplotlib.pyplot as plt\n",
    "\n",
    "# 从数据集中获取一张图片\n",
    "sample_x, sample_y = dataset[0]  # 获取第一张图片\n",
    "\n",
    "# 将 PyTorch 张量转换为 PIL 图像\n",
    "pil_image = transforms.ToPILImage()(sample_x.squeeze(0))  # 移除第一个维度\n",
    "\n",
    "# 显示图像\n",
    "plt.imshow(pil_image, cmap='gray')  # 使用灰度色彩映射\n",
    "plt.title(f\"Label: {sample_y}\")\n",
    "plt.axis('off')\n",
    "plt.show()\n"
   ]
  }
 ],
 "metadata": {
  "kernelspec": {
   "display_name": "ai",
   "language": "python",
   "name": "python3"
  },
  "language_info": {
   "codemirror_mode": {
    "name": "ipython",
    "version": 3
   },
   "file_extension": ".py",
   "mimetype": "text/x-python",
   "name": "python",
   "nbconvert_exporter": "python",
   "pygments_lexer": "ipython3",
   "version": "3.8.19"
  }
 },
 "nbformat": 4,
 "nbformat_minor": 2
}
