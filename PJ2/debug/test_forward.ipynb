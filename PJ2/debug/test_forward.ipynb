{
 "cells": [
  {
   "cell_type": "code",
   "execution_count": 29,
   "metadata": {},
   "outputs": [],
   "source": [
    "import numpy as np\n",
    "\n",
    "\n",
    "class HMM():\n",
    "    def __init__(self, obs_num, state_num, initial_state = None):\n",
    "        self.obs_num = obs_num\n",
    "        self.state_num = state_num\n",
    "        if initial_state is None:\n",
    "            self.initial_state = np.ones((state_num))\n",
    "        else: \n",
    "            self.initial_state = initial_state\n",
    "        self.transition_matrix = np.ones((state_num, state_num))\n",
    "        self.emission_matrix = np.ones((state_num,obs_num))\n",
    "        self.buffer = None\n",
    "    def set(self, transition_matrix, emission_matrix, initial_state):\n",
    "        self.transition_matrix = np.array(transition_matrix)\n",
    "        self.emission_matrix = np.array(emission_matrix)\n",
    "        self.initial_state = np.array(initial_state)\n",
    "    def forward(self, obs):\n",
    "        '''we caculate the probability of the observation sequence given the model'''\n",
    "        T = len(obs)\n",
    "        alpha = np.zeros((self.state_num))\n",
    "        for i in range(T):\n",
    "            if i == 0:\n",
    "                print(\"obs i: \", obs[i])\n",
    "                print(\"emission_matrix: \", self.emission_matrix.shape)\n",
    "                alpha = self.initial_state * self.emission_matrix[:, obs[i]]\n",
    "                self.buffer = alpha\n",
    "            else:\n",
    "                alpha = np.dot(alpha, self.transition_matrix) * self.emission_matrix[:, obs[i]]\n",
    "                self.buffer = np.vstack((self.buffer, alpha))\n",
    "            print(\"alpha: \", alpha)\n",
    "        prob = np.sum(alpha[-1])\n",
    "        return prob\n",
    "    def backward(self, obs):\n",
    "        '''given the final observation, we caculate the most probable state sequence'''\n",
    "        T = len(obs)\n",
    "        if isinstance(obs, list):\n",
    "            obs = np.array(obs)\n",
    "        states_seq = np.zeros((T))\n",
    "        # we can use the buffer to store the alpha values\n",
    "        beta = np.zeros((T,self.state_num))\n",
    "        idx = np.zeros((T,self.state_num))\n",
    "        # forward process\n",
    "        for i in range(T):\n",
    "            if i == 0:\n",
    "                beta[i] = self.initial_state * self.emission_matrix[:, obs[i]]\n",
    "                idx[i] = np.zeros((self.state_num))\n",
    "            else:\n",
    "                tmp=self.transition_matrix.T* beta[i-1]\n",
    "\n",
    "                beta[i] = np.max((tmp),axis=1) * self.emission_matrix[:, obs[i]]\n",
    "                idx[i] = np.argmax((tmp),axis=1)\n",
    "        print(\"beta: \", beta)\n",
    "        # backward process\n",
    "\n",
    "        for i in range(T-1, -1, -1):\n",
    "            if i == T-1:\n",
    "                states_seq[i] = np.argmax(beta[-1])\n",
    "            else:\n",
    "                states_seq[i] = idx[i+1, int(states_seq[i+1])]\n",
    "            \n",
    "        return states_seq\n",
    "    \n",
    "    \n",
    "    def train(self, obs,states_seq):\n",
    "        '''Vietebi algorithm'''\n",
    "        T = len(obs)\n",
    "        '''we should count the number of transitions and emissions example'''\n",
    "        print(\"T: \", T)\n",
    "        for i in range(T):\n",
    "            #we count the initial state first\n",
    "            self.initial_state[states_seq[i]] += 1\n",
    "            if i == T-1:\n",
    "                break\n",
    "            #we count the transitions and emissions\n",
    "            self.transition_matrix[states_seq[i], states_seq[i+1]] += 1\n",
    "            self.emission_matrix[states_seq[i], obs[i]] += 1\n",
    "        self.initial_state /= np.sum(self.initial_state)\n",
    "        self.transition_matrix /= np.sum(self.transition_matrix, axis = 1, keepdims=True)\n",
    "        self.emission_matrix /= np.sum(self.emission_matrix, axis = 1, keepdims=True)\n",
    "        \n",
    "        return self.transition_matrix, self.emission_matrix, self.initial_state\n",
    "            \n",
    "        \n",
    "        "
   ]
  },
  {
   "cell_type": "code",
   "execution_count": 30,
   "metadata": {},
   "outputs": [],
   "source": [
    "\n",
    "# test = HMM(obs_num=2, state_num=3)\n",
    "# transitions = [[0.5, 0.2, 0.3], [0.3, 0.5, 0.2], [0.2, 0.3, 0.5]]\n",
    "# emmisions = [[0.5, 0.5], [0.4, 0.6], [0.7, 0.3]]\n",
    "# initial = [0.2, 0.4, 0.4]\n",
    "test = HMM(obs_num=3, state_num=2)\n",
    "transitions = [[0.7, 0.3], [0.5, 0.5]]\n",
    "emmisions = [[0.6, 0.1, 0.3], [0.1, 0.7, 0.2]]\n",
    "initial = [0.4, 0.6]\n",
    "test.set(transitions, emmisions, initial)"
   ]
  },
  {
   "cell_type": "code",
   "execution_count": 31,
   "metadata": {},
   "outputs": [
    {
     "name": "stdout",
     "output_type": "stream",
     "text": [
      "obs i:  0\n",
      "emission_matrix:  (2, 3)\n",
      "alpha:  [0.24 0.06]\n",
      "alpha:  [0.0198 0.0714]\n",
      "alpha:  [0.014868 0.008328]\n"
     ]
    },
    {
     "data": {
      "text/plain": [
       "0.008328"
      ]
     },
     "execution_count": 31,
     "metadata": {},
     "output_type": "execute_result"
    }
   ],
   "source": [
    "test.forward([0, 1, 2])"
   ]
  },
  {
   "cell_type": "code",
   "execution_count": 32,
   "metadata": {},
   "outputs": [
    {
     "name": "stdout",
     "output_type": "stream",
     "text": [
      "beta:  [[0.24    0.06   ]\n",
      " [0.0168  0.0504 ]\n",
      " [0.00756 0.00504]]\n"
     ]
    },
    {
     "data": {
      "text/plain": [
       "array([0., 1., 0.])"
      ]
     },
     "execution_count": 32,
     "metadata": {},
     "output_type": "execute_result"
    }
   ],
   "source": [
    "test.backward([0, 1, 2])"
   ]
  }
 ],
 "metadata": {
  "kernelspec": {
   "display_name": "ai",
   "language": "python",
   "name": "python3"
  },
  "language_info": {
   "codemirror_mode": {
    "name": "ipython",
    "version": 3
   },
   "file_extension": ".py",
   "mimetype": "text/x-python",
   "name": "python",
   "nbconvert_exporter": "python",
   "pygments_lexer": "ipython3",
   "version": "3.8.19"
  }
 },
 "nbformat": 4,
 "nbformat_minor": 2
}
