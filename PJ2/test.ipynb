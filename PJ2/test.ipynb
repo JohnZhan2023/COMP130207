{
 "cells": [
  {
   "cell_type": "code",
   "execution_count": 1,
   "metadata": {},
   "outputs": [
    {
     "name": "stdout",
     "output_type": "stream",
     "text": [
      "{'B-CONT': 0, 'B-EDU': 1, 'B-LOC': 2, 'B-NAME': 3, 'B-ORG': 4, 'B-PRO': 5, 'B-RACE': 6, 'B-TITLE': 7, 'E-CONT': 8, 'E-EDU': 9, 'E-LOC': 10, 'E-NAME': 11, 'E-ORG': 12, 'E-PRO': 13, 'E-RACE': 14, 'E-TITLE': 15, 'M-CONT': 16, 'M-EDU': 17, 'M-LOC': 18, 'M-NAME': 19, 'M-ORG': 20, 'M-PRO': 21, 'M-RACE': 22, 'M-TITLE': 23, 'O': 24, 'S-NAME': 25, 'S-ORG': 26, 'S-RACE': 27, '<START>': 28, '<STOP>': 29}\n",
      "before train result: [4, 24, 13, 19, 4, 24, 13, 19, 4, 24, 13, 19, 4, 24, 13, 16, 26, 6, 12]\n",
      "==============epoch:0====================\n"
     ]
    },
    {
     "name": "stderr",
     "output_type": "stream",
     "text": [
      "100%|██████████| 10/10 [00:01<00:00,  6.63it/s]\n"
     ]
    },
    {
     "name": "stdout",
     "output_type": "stream",
     "text": [
      "after training: [4, 24, 24, 24, 24, 24, 24, 24, 24, 24, 24, 24, 24, 24, 24, 24, 24, 13, 12]\n"
     ]
    }
   ],
   "source": [
    "from CRF import CRF\n",
    "from dataloader import dataloader\n",
    "from BiLSTM_CRF import BiLSTM_CRF\n",
    "import numpy as np\n",
    "import torch\n",
    "import os\n",
    "from BiLSTM_CRF import train\n",
    "from tqdm import tqdm\n",
    "# import wandb\n",
    "\n",
    "\n",
    "# wandb.init(project='bilstm_crf',entity='zhanjiahao384')\n",
    "# wandb.config.update(args)\n",
    "\n",
    "train_path = \"NER/Chinese/train.txt\"\n",
    "test_path = \"NER/Chinese/validation.txt\"\n",
    "\n",
    "model, dataloader = train(train_path, test_path, epochs=1)\n",
    "testing_data, testing_labels = dataloader.get_test_data_list()\n",
    "eval_tags = []\n",
    "for i in range(len(testing_data)):\n",
    "    testing_data[i] = torch.tensor(testing_data[i], dtype=torch.long)\n",
    "    eval_tags.append(model(testing_data[i]))\n",
    "\n",
    "\n",
    "# Write the results to a file\n",
    "dataloader.updateList(\"<START>\",\"<STOP>\")\n",
    "id2label = dataloader.returnid2label()\n",
    "id2data = dataloader.returnid2data()\n",
    "# for i in range(len(eval_tags)):\n",
    "#     try:\n",
    "#         eval_tags[i] = [id2label[j] for j in eval_tags[i]]\n",
    "#     except:\n",
    "#         print(eval_tags[i])\n",
    "#     try:\n",
    "#         testing_data[i] = [id2data[j] for j in testing_data[i]]\n",
    "#     except:\n",
    "#         print(testing_data[i])\n",
    "\n",
    "# print(\"finish generating the result file.\")\n"
   ]
  },
  {
   "cell_type": "code",
   "execution_count": 2,
   "metadata": {},
   "outputs": [
    {
     "data": {
      "text/plain": [
       "['B-CONT',\n",
       " 'B-EDU',\n",
       " 'B-LOC',\n",
       " 'B-NAME',\n",
       " 'B-ORG',\n",
       " 'B-PRO',\n",
       " 'B-RACE',\n",
       " 'B-TITLE',\n",
       " 'E-CONT',\n",
       " 'E-EDU',\n",
       " 'E-LOC',\n",
       " 'E-NAME',\n",
       " 'E-ORG',\n",
       " 'E-PRO',\n",
       " 'E-RACE',\n",
       " 'E-TITLE',\n",
       " 'M-CONT',\n",
       " 'M-EDU',\n",
       " 'M-LOC',\n",
       " 'M-NAME',\n",
       " 'M-ORG',\n",
       " 'M-PRO',\n",
       " 'M-RACE',\n",
       " 'M-TITLE',\n",
       " 'O',\n",
       " 'S-NAME',\n",
       " 'S-ORG',\n",
       " 'S-RACE',\n",
       " '<START>',\n",
       " '<STOP>']"
      ]
     },
     "execution_count": 2,
     "metadata": {},
     "output_type": "execute_result"
    }
   ],
   "source": [
    "id2label"
   ]
  },
  {
   "cell_type": "code",
   "execution_count": 5,
   "metadata": {},
   "outputs": [
    {
     "data": {
      "text/plain": [
       "[4, 24, 24, 24, 24, 24, 24, 24, 24, 24, 24, 24, 24, 24, 24, 24, 24, 13, 12]"
      ]
     },
     "execution_count": 5,
     "metadata": {},
     "output_type": "execute_result"
    }
   ],
   "source": [
    "eval_tags[0]"
   ]
  },
  {
   "cell_type": "code",
   "execution_count": 6,
   "metadata": {},
   "outputs": [
    {
     "data": {
      "text/plain": [
       "'O'"
      ]
     },
     "execution_count": 6,
     "metadata": {},
     "output_type": "execute_result"
    }
   ],
   "source": [
    "[id2label[j] for j in eval_tags[0]]"
   ]
  }
 ],
 "metadata": {
  "kernelspec": {
   "display_name": "ai",
   "language": "python",
   "name": "python3"
  },
  "language_info": {
   "codemirror_mode": {
    "name": "ipython",
    "version": 3
   },
   "file_extension": ".py",
   "mimetype": "text/x-python",
   "name": "python",
   "nbconvert_exporter": "python",
   "pygments_lexer": "ipython3",
   "version": "3.8.19"
  }
 },
 "nbformat": 4,
 "nbformat_minor": 2
}
